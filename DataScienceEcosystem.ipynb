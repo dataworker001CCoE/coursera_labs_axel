{
  "metadata": {
    "kernelspec": {
      "name": "python",
      "display_name": "Python (Pyodide)",
      "language": "python"
    },
    "language_info": {
      "codemirror_mode": {
        "name": "python",
        "version": 3
      },
      "file_extension": ".py",
      "mimetype": "text/x-python",
      "name": "python",
      "nbconvert_exporter": "python",
      "pygments_lexer": "ipython3",
      "version": "3.8"
    }
  },
  "nbformat_minor": 5,
  "nbformat": 4,
  "cells": [
    {
      "id": "10d5ae22-3685-445c-bb89-3bcf9cfe493e",
      "cell_type": "markdown",
      "source": "# Data Science Tools and Ecosystem",
      "metadata": {}
    },
    {
      "id": "4d4a7f11-69c5-4e9f-9cff-c7cbe96e352c",
      "cell_type": "markdown",
      "source": "In this notebook, Data Science Tools and Ecosystem are summarized.",
      "metadata": {}
    },
    {
      "id": "b31abfe7-e8e0-40ce-8f31-e03ce6e05d7e",
      "cell_type": "markdown",
      "source": "**Objectives**\n+ List popular languages for Data Science\n+ List commonly used libraries\n+ List data sciences opensource IDEs",
      "metadata": {}
    },
    {
      "id": "61856d38-054b-4cfd-9d29-d21363446caf",
      "cell_type": "markdown",
      "source": "Some of the popular languages that Data Scientists use are:\n1. Python\n2. R\n3. SQL\n4. Julia",
      "metadata": {}
    },
    {
      "id": "7eb81287-8df4-415b-a66d-00cda58085a6",
      "cell_type": "markdown",
      "source": "Some of the commonly used libraries used by Data Scientists include:\n1. pandas\n2. numpy\n3. matplotlib\n4. pytorch\n5. scikit-learn\n",
      "metadata": {}
    },
    {
      "id": "f41a1cca-1a36-43bc-a577-d3ef3208912d",
      "cell_type": "markdown",
      "source": "|Data Science Tools|\n|    :----:   | \n|Jupyter Notebook|\n|Google Colab|\n|Anaconda|",
      "metadata": {}
    },
    {
      "id": "e8648887-297e-4f03-a9ab-075b53b9d162",
      "cell_type": "markdown",
      "source": "### Below are a few examples of evaluating arithmetic expressions in Python\n\n$$ x = {-b \\pm \\sqrt{b^2-4ac} \\over 2a} $$\n$$(ax^2 + bx + c = 0)$$",
      "metadata": {}
    },
    {
      "id": "7a9ea760-3c58-486c-82d4-e218e5b1e659",
      "cell_type": "code",
      "source": "# This a simple arithmetic expression to mutiply then add integers\n(3*4)+5",
      "metadata": {
        "trusted": true
      },
      "outputs": [
        {
          "execution_count": 1,
          "output_type": "execute_result",
          "data": {
            "text/plain": "17"
          },
          "metadata": {}
        }
      ],
      "execution_count": 1
    },
    {
      "id": "ae8bdd42-0450-4519-bcc0-9c45b3621329",
      "cell_type": "code",
      "source": "# This will convert 200 minutes to hours by diving by 60\nprint(f\"200 minutes are {200/60} hours.\")",
      "metadata": {
        "trusted": true
      },
      "outputs": [
        {
          "name": "stdout",
          "output_type": "stream",
          "text": "200 minutes are 3.3333333333333335 hours.\n"
        }
      ],
      "execution_count": 3
    },
    {
      "id": "7f802b02-f404-4a7a-a905-1b891d911113",
      "cell_type": "markdown",
      "source": "## Author\nAxel WARNIER",
      "metadata": {}
    }
  ]
}